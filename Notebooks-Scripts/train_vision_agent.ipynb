{
 "cells": [
  {
   "cell_type": "code",
   "execution_count": 1,
   "id": "6873d3cc-3723-4965-82af-af906c4c1655",
   "metadata": {},
   "outputs": [],
   "source": [
    "import os\n",
    "import torch\n",
    "import pandas as pd\n",
    "from PIL import Image\n",
    "from tqdm import tqdm\n",
    "from sklearn.preprocessing import LabelEncoder\n",
    "from torchvision import transforms,models\n",
    "from torch.utils.data import Dataset, DataLoader, WeightedRandomSampler\n",
    "from torch import nn, optim\n",
    "from sklearn.model_selection import train_test_split"
   ]
  },
  {
   "cell_type": "code",
   "execution_count": 2,
   "id": "38457442-3253-4710-b473-848ba6114333",
   "metadata": {},
   "outputs": [],
   "source": [
    "CSV_PATH = \"d:/multiagent-disaster-reasoning/data/fusion_cleaned.csv\"\n",
    "IMAGE_ROOT = \"d:/multiagent-disaster-reasoning/data/CrisisMMD_v2.0/data_image\"\n",
    "BATCH_SIZE = 32\n",
    "EPOCHS = 10\n",
    "LEARNING_RATE = 1e-4\n",
    "DEVICE = torch.device(\"cuda\" if torch.cuda.is_available() else \"cpu\")"
   ]
  },
  {
   "cell_type": "code",
   "execution_count": 4,
   "id": "e98afac0-c901-430f-8f52-7c1ec01a7801",
   "metadata": {},
   "outputs": [
    {
     "name": "stdout",
     "output_type": "stream",
     "text": [
      "Classes: ['california_wildfires' 'hurricane_harvey' 'hurricane_irma'\n",
      " 'hurricane_maria' 'iraq_iran_earthquake' 'srilanka_floods']\n",
      "Verifying first batch...\n",
      "Batch loaded : torch.Size([32, 3, 224, 224]), labels: torch.Size([32])\n"
     ]
    },
    {
     "name": "stderr",
     "output_type": "stream",
     "text": [
      "Epoch 1/10: 100%|█████████████████████████████████████████████████████████████████████████████████████████████████████| 240/240 [32:24<00:00,  8.10s/it]\n"
     ]
    },
    {
     "name": "stdout",
     "output_type": "stream",
     "text": [
      "Train Loss :  79.6857 | Accuracy: 0.8882\n",
      "Validation Accuracy : 0.8911\n"
     ]
    },
    {
     "name": "stderr",
     "output_type": "stream",
     "text": [
      "Epoch 2/10: 100%|█████████████████████████████████████████████████████████████████████████████████████████████████████| 240/240 [32:16<00:00,  8.07s/it]\n"
     ]
    },
    {
     "name": "stdout",
     "output_type": "stream",
     "text": [
      "Train Loss :  33.1956 | Accuracy: 0.9525\n",
      "Validation Accuracy : 0.8876\n"
     ]
    },
    {
     "name": "stderr",
     "output_type": "stream",
     "text": [
      "Epoch 3/10: 100%|█████████████████████████████████████████████████████████████████████████████████████████████████████| 240/240 [37:19<00:00,  9.33s/it]\n"
     ]
    },
    {
     "name": "stdout",
     "output_type": "stream",
     "text": [
      "Train Loss :  24.9271 | Accuracy: 0.9674\n",
      "Validation Accuracy : 0.9087\n"
     ]
    },
    {
     "name": "stderr",
     "output_type": "stream",
     "text": [
      "Epoch 4/10: 100%|█████████████████████████████████████████████████████████████████████████████████████████████████████| 240/240 [33:21<00:00,  8.34s/it]\n"
     ]
    },
    {
     "name": "stdout",
     "output_type": "stream",
     "text": [
      "Train Loss :  21.5960 | Accuracy: 0.9697\n",
      "Validation Accuracy : 0.8993\n"
     ]
    },
    {
     "name": "stderr",
     "output_type": "stream",
     "text": [
      "Epoch 5/10: 100%|█████████████████████████████████████████████████████████████████████████████████████████████████████| 240/240 [37:24<00:00,  9.35s/it]\n"
     ]
    },
    {
     "name": "stdout",
     "output_type": "stream",
     "text": [
      "Train Loss :  17.5957 | Accuracy: 0.9771\n",
      "Validation Accuracy : 0.8911\n"
     ]
    },
    {
     "name": "stderr",
     "output_type": "stream",
     "text": [
      "Epoch 6/10: 100%|█████████████████████████████████████████████████████████████████████████████████████████████████████| 240/240 [52:52<00:00, 13.22s/it]\n"
     ]
    },
    {
     "name": "stdout",
     "output_type": "stream",
     "text": [
      "Train Loss :  14.5955 | Accuracy: 0.9807\n",
      "Validation Accuracy : 0.9052\n"
     ]
    },
    {
     "name": "stderr",
     "output_type": "stream",
     "text": [
      "Epoch 7/10: 100%|█████████████████████████████████████████████████████████████████████████████████████████████████████| 240/240 [54:27<00:00, 13.61s/it]\n"
     ]
    },
    {
     "name": "stdout",
     "output_type": "stream",
     "text": [
      "Train Loss :  12.6550 | Accuracy: 0.9841\n",
      "Validation Accuracy : 0.9122\n"
     ]
    },
    {
     "name": "stderr",
     "output_type": "stream",
     "text": [
      "Epoch 8/10: 100%|█████████████████████████████████████████████████████████████████████████████████████████████████████| 240/240 [51:34<00:00, 12.89s/it]\n"
     ]
    },
    {
     "name": "stdout",
     "output_type": "stream",
     "text": [
      "Train Loss :  13.2956 | Accuracy: 0.9829\n",
      "Validation Accuracy : 0.8934\n"
     ]
    },
    {
     "name": "stderr",
     "output_type": "stream",
     "text": [
      "Epoch 9/10: 100%|█████████████████████████████████████████████████████████████████████████████████████████████████████| 240/240 [50:52<00:00, 12.72s/it]\n"
     ]
    },
    {
     "name": "stdout",
     "output_type": "stream",
     "text": [
      "Train Loss :  12.9791 | Accuracy: 0.9836\n",
      "Validation Accuracy : 0.9063\n"
     ]
    },
    {
     "name": "stderr",
     "output_type": "stream",
     "text": [
      "Epoch 10/10: 100%|████████████████████████████████████████████████████████████████████████████████████████████████████| 240/240 [51:09<00:00, 12.79s/it]\n"
     ]
    },
    {
     "name": "stdout",
     "output_type": "stream",
     "text": [
      "Train Loss :  10.5683 | Accuracy: 0.9867\n",
      "Validation Accuracy : 0.9040\n",
      "model saved as vision_agent_resnet50.pth\n"
     ]
    }
   ],
   "source": [
    "class DisasterImageDataset(Dataset):\n",
    "    def __init__(self, df, image_root, transform=None):\n",
    "        self.df = df\n",
    "        self.image_root = image_root\n",
    "        self.transform = transform\n",
    "\n",
    "    def __len__(self):\n",
    "        return len(self.df)\n",
    "\n",
    "    def __getitem__(self, idx):\n",
    "        for _ in range(10):\n",
    "            row = self.df.iloc[idx]\n",
    "            image_path = os.path.join(self.image_root, row[\"image_name\"])\n",
    "            try:\n",
    "                image = Image.open(image_path).convert(\"RGB\")\n",
    "                if self.transform:\n",
    "                    image = self.transform(image)\n",
    "                label = row[\"label\"]\n",
    "                return image, label\n",
    "            except Exception as e:\n",
    "                print(f\" skipping unreadable image : {image_path}\")\n",
    "                idx = (idx+1) % len(self.df)\n",
    "        raise RuntimeError(\"All 10 attempts to load image failed.\")\n",
    "\n",
    "\n",
    "df = pd.read_csv(CSV_PATH)\n",
    "\n",
    "label_encoder = LabelEncoder()\n",
    "df['label'] = label_encoder.fit_transform(df['disaster_type'])\n",
    "\n",
    "num_classes = df['label'].nunique()\n",
    "print(\"Classes:\", label_encoder.classes_)\n",
    "\n",
    "train_df, val_df = train_test_split(df, test_size=0.1, stratify=df['label'], random_state=42)\n",
    "\n",
    "class_counts=train_df['label'].value_counts().sort_index().values\n",
    "class_weights=1. / class_counts\n",
    "sample_weights= train_df['label'].map(lambda x:class_weights[x])\n",
    "sampler = WeightedRandomSampler(sample_weights,len(sample_weights),replacement=True)\n",
    "\n",
    "train_transform = transforms.Compose([\n",
    "    transforms.Resize((224, 224)),\n",
    "    transforms.RandomHorizontalFlip(),\n",
    "    transforms.ToTensor(),\n",
    "])\n",
    "\n",
    "val_transform = transforms.Compose([\n",
    "    transforms.Resize((224, 224)),\n",
    "    transforms.ToTensor(),\n",
    "])\n",
    "\n",
    "train_dataset=DisasterImageDataset(train_df,IMAGE_ROOT, transform =train_transform)\n",
    "val_dataset = DisasterImageDataset(val_df,IMAGE_ROOT,transform = val_transform)\n",
    "\n",
    "train_loader = DataLoader(train_dataset,batch_size=BATCH_SIZE,sampler =sampler,num_workers =0)\n",
    "val_loader= DataLoader(val_dataset, batch_size =BATCH_SIZE,shuffle=False,num_workers =0)\n",
    "\n",
    "model = models.resnet50(weights =\"IMAGENET1K_V1\")\n",
    "model.fc = nn.Linear(model.fc.in_features,num_classes)\n",
    "model = model.to(DEVICE)\n",
    "\n",
    "criterion = nn.CrossEntropyLoss()\n",
    "optimizer = optim.AdamW(model.parameters(), lr = LEARNING_RATE)\n",
    "\n",
    "print(\"Verifying first batch...\")\n",
    "for imgs, labels in train_loader:\n",
    "    print(f\"Batch loaded : {imgs.shape}, labels: {labels.shape}\")\n",
    "    break\n",
    "\n",
    "for epoch in range(EPOCHS):\n",
    "    model.train()\n",
    "    running_loss, correct = 0.0, 0\n",
    "    for imgs, labels in tqdm(train_loader, desc = f\"Epoch {epoch+1}/{EPOCHS}\"):\n",
    "        imgs, labels = imgs.to(DEVICE), labels.to(DEVICE)\n",
    "        optimizer.zero_grad()\n",
    "        outputs = model(imgs)\n",
    "        loss = criterion(outputs, labels.long())\n",
    "        loss.backward()\n",
    "        optimizer.step()\n",
    "\n",
    "        running_loss += loss.item()\n",
    "        correct += (outputs.argmax(1) == labels).sum().item()\n",
    "\n",
    "    acc = correct/len(train_dataset)\n",
    "    print(f\"Train Loss : {running_loss: .4f} | Accuracy: {acc:.4f}\")\n",
    "\n",
    "    model.eval()\n",
    "    val_correct = 0\n",
    "    with torch.no_grad():\n",
    "        for imgs, labels in val_loader:\n",
    "            imgs, labels = imgs.to(DEVICE), labels.to(DEVICE)\n",
    "            outputs = model(imgs)\n",
    "            val_correct += (outputs.argmax(1) == labels.long()).sum().item()\n",
    "    val_acc = val_correct/len(val_dataset)\n",
    "    print(f\"Validation Accuracy : {val_acc:.4f}\")\n",
    "\n",
    "torch.save(model.state_dict(), \"vision_agent_resnet50.pth\")\n",
    "print(\"model saved as vision_agent_resnet50.pth\")\n"
   ]
  },
  {
   "cell_type": "code",
   "execution_count": null,
   "id": "5ef893ff-35fc-49e6-ab41-9994e1d5b938",
   "metadata": {},
   "outputs": [],
   "source": []
  }
 ],
 "metadata": {
  "kernelspec": {
   "display_name": "Python 3 (ipykernel)",
   "language": "python",
   "name": "python3"
  },
  "language_info": {
   "codemirror_mode": {
    "name": "ipython",
    "version": 3
   },
   "file_extension": ".py",
   "mimetype": "text/x-python",
   "name": "python",
   "nbconvert_exporter": "python",
   "pygments_lexer": "ipython3",
   "version": "3.11.4"
  }
 },
 "nbformat": 4,
 "nbformat_minor": 5
}
