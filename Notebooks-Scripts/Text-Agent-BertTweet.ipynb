{
 "cells": [
  {
   "cell_type": "code",
   "execution_count": 1,
   "id": "e21e53f5-cd97-4795-8759-608d8e0000bf",
   "metadata": {},
   "outputs": [
    {
     "name": "stderr",
     "output_type": "stream",
     "text": [
      "W0725 03:45:44.438000 3412 site-packages\\torch\\distributed\\elastic\\multiprocessing\\redirects.py:29] NOTE: Redirects are currently not supported in Windows or MacOs.\n"
     ]
    }
   ],
   "source": [
    "import pandas as pd\n",
    "import re\n",
    "from tqdm import tqdm\n",
    "import ftfy\n",
    "import html\n",
    "import os\n",
    "import torch\n",
    "from torch.utils.data import Dataset, DataLoader, WeightedRandomSampler\n",
    "from sklearn.model_selection import train_test_split\n",
    "from transformers import AutoTokenizer, AutoModelForSequenceClassification\n",
    "from sklearn.preprocessing import LabelEncoder\n",
    "from torch.optim import AdamW"
   ]
  },
  {
   "cell_type": "code",
   "execution_count": 2,
   "id": "293871d8-5475-4691-b7ff-48b2666fc90b",
   "metadata": {},
   "outputs": [],
   "source": [
    "tqdm.pandas()\n",
    "fusion_path= \"d:/multiagent-disaster-reasoning/data/fusion_cleaned.csv\"\n",
    "df=pd.read_csv(fusion_path, encoding = 'utf-8')"
   ]
  },
  {
   "cell_type": "code",
   "execution_count": 20,
   "id": "7d181327-2881-432e-abd0-7350aa379337",
   "metadata": {},
   "outputs": [
    {
     "name": "stderr",
     "output_type": "stream",
     "text": [
      "100%|████████████████████████████████████████████████████████████████████████████████████████████████████████████| 8534/8534 [00:00<00:00, 19200.76it/s]\n"
     ]
    },
    {
     "name": "stdout",
     "output_type": "stream",
     "text": [
      "csv saved\n"
     ]
    }
   ],
   "source": [
    "def preprocess_tweet(text):\n",
    "    text = re.sub(r\"[^\\x00-\\x7F]+\", \" \", text)  # Remove non-ASCII\n",
    "    text = re.sub(r\"…|\\.{3}\", \" \", text)        # Remove ellipses\n",
    "    text = re.sub(r\"[@＠]\\w+\", \"@USER\", text)   # Normalize mentions\n",
    "    text = re.sub(r\"(@USER\\s*)+\", \"@USER \", text)  # Remove duplicate mentions\n",
    "    text = re.sub(r\"http\\S+|www\\S+\", \"http\", text)\n",
    "    text = re.sub(r\"(http\\s+)+\", \"http \", text)     # Remove duplicate http\n",
    "    text = re.sub(r\"#\", \"\", text)                  # Remove # but keep tag\n",
    "    text = re.sub(r\"\\s+\", \" \", text).strip()       # Normalize spaces\n",
    "    return text\n",
    "\n",
    "\n",
    "df[\"tweet_text_clean\"] = df[\"tweet_text\"].progress_apply(preprocess_tweet)\n",
    "\n",
    "output_path = \"d:/multiagent-disaster-reasoning/data/cleaned_fusion_with_text.csv\"\n",
    "df.to_csv(output_path, index = False)\n",
    "print(\"csv saved\")"
   ]
  },
  {
   "cell_type": "code",
   "execution_count": 3,
   "id": "3e7cfff3-56aa-47cc-abb9-b0ab702caf8b",
   "metadata": {},
   "outputs": [],
   "source": [
    "CSV_PATH = \"d:/multiagent-disaster-reasoning/data/cleaned_fusion_with_text.csv\"\n",
    "MODEL_NAME = \"vinai/bertweet-base\"\n",
    "BATCH_SIZE = 16\n",
    "MAX_LEN = 128\n",
    "EPOCHS = 5\n",
    "DEVICE = \"cuda\" if torch.cuda.is_available() else \"cpu\"\n",
    "SAVE_PATH = \"d:/multiagent-disaster-reasoning/agents/text_agent_bertweet.pth\""
   ]
  },
  {
   "cell_type": "code",
   "execution_count": null,
   "id": "6b57e039-3322-4b8f-a72f-9048c3147acf",
   "metadata": {},
   "outputs": [
    {
     "name": "stderr",
     "output_type": "stream",
     "text": [
      "Some weights of RobertaForSequenceClassification were not initialized from the model checkpoint at vinai/bertweet-base and are newly initialized: ['classifier.dense.bias', 'classifier.dense.weight', 'classifier.out_proj.bias', 'classifier.out_proj.weight']\n",
      "You should probably TRAIN this model on a down-stream task to be able to use it for predictions and inference.\n",
      "Epoch 1/5 - Training:   0%|▎                                                           | 2/480 [00:14<57:27,  7.21s/it]"
     ]
    }
   ],
   "source": [
    "df = pd.read_csv(CSV_PATH)\n",
    "df = df[['tweet_text_clean', 'disaster_type']].dropna()\n",
    "\n",
    "label_encoder = LabelEncoder()\n",
    "df['label'] = label_encoder.fit_transform(df['disaster_type'])\n",
    "num_labels = len(label_encoder.classes_)\n",
    "\n",
    "\n",
    "tokenizer = AutoTokenizer.from_pretrained(MODEL_NAME, use_fast = True)\n",
    "\n",
    "class TweetDataset(Dataset):\n",
    "    def __init__(self, texts, labels):\n",
    "        self.labels = list(labels)\n",
    "        self.encodings = tokenizer(list(texts), truncation = True, padding = 'max_length', max_length = MAX_LEN, return_tensors =None)\n",
    "        if len(self.encodings['input_ids']) != len(self.labels):\n",
    "            raise ValueError(\"Mismatch between encodings and labels\")\n",
    "        \n",
    "\n",
    "    def __len__(self):\n",
    "        return len(self.labels)\n",
    "\n",
    "    def __getitem__(self, idx):\n",
    "        item = {key: torch.tensor(val[idx]) for key, val in self.encodings.items()}\n",
    "        item['labels'] = torch.tensor(self.labels[idx])\n",
    "        return item\n",
    "\n",
    "train_texts, val_texts, train_labels, val_labels = train_test_split(df['tweet_text_clean'], df['label'], test_size =0.1, stratify = df['label'], random_state =42)\n",
    "train_texts = train_texts.reset_index(drop=True)\n",
    "train_labels = train_labels.reset_index(drop=True)\n",
    "val_texts = val_texts.reset_index(drop=True)\n",
    "val_labels = val_labels.reset_index(drop=True)\n",
    "\n",
    "train_dataset = TweetDataset(train_texts, train_labels)\n",
    "val_dataset = TweetDataset(val_texts, val_labels)\n",
    "\n",
    "class_counts = df['label'].value_counts().sort_index().values\n",
    "weights = 1. / class_counts\n",
    "sample_weight = weights[train_labels]\n",
    "sampler = WeightedRandomSampler(sample_weight, len(sample_weight))\n",
    "\n",
    "train_loader = DataLoader(train_dataset, batch_size = BATCH_SIZE, sampler = sampler)\n",
    "val_loader = DataLoader(val_dataset, batch_size = BATCH_SIZE)\n",
    "\n",
    "model = AutoModelForSequenceClassification.from_pretrained(MODEL_NAME, num_labels= num_labels)\n",
    "model.to(DEVICE)\n",
    "optimizer = AdamW(model.parameters(), lr = 2e-5)\n",
    "\n",
    "for epoch in range(EPOCHS):\n",
    "    model.train()\n",
    "    total_loss = 0\n",
    "    for batch in tqdm(train_loader, desc = f\"Epoch {epoch+1}/{EPOCHS} - Training\"):\n",
    "        batch = {k: v.to(DEVICE) for k, v in batch.items()}\n",
    "        outputs = model(**batch)\n",
    "        loss = outputs.loss\n",
    "        total_loss += loss.item()\n",
    "        loss.backward()\n",
    "        optimizer.step()\n",
    "        optimizer.zero_grad()\n",
    "    print(f\"Epoch {epoch+1} Train Loss: {total_loss/len(train_loader): .4f}\")\n",
    "\n",
    "    model.eval()\n",
    "    correct = 0\n",
    "    total = 0\n",
    "    with torch.no_grad():\n",
    "        for batch in tqdm(val_loader, desc = f\"Epoch {epoch+1}/{EPOCHS} - Validataion\"):\n",
    "            batch = {k: v.to(DEVICE) for k, v in batch.items()}\n",
    "            outputs = model(**batch)\n",
    "            preds = outputs.logits.argmax(dim=1)\n",
    "            correct += (preds == batch['labels']).sum().item()\n",
    "            total += batch['labels'].size(0)\n",
    "    print(f\"Validation Accuracy: {correct/total: .4f}\")\n",
    "\n",
    "\n",
    "torch.save({\n",
    "    'model_state_dict': model.state_dict(),\n",
    "    'label_encoder': label_encoder,\n",
    "    'tokenizer': tokenizer,\n",
    "}, SAVE_PATH)\n",
    "\n",
    "print(\"Model saved at path\", SAVE_PATH)"
   ]
  },
  {
   "cell_type": "markdown",
   "id": "8dc016aa-8dbb-4a0c-bda9-09715d623795",
   "metadata": {},
   "source": []
  }
 ],
 "metadata": {
  "kernelspec": {
   "display_name": "Python 3 (ipykernel)",
   "language": "python",
   "name": "python3"
  },
  "language_info": {
   "codemirror_mode": {
    "name": "ipython",
    "version": 3
   },
   "file_extension": ".py",
   "mimetype": "text/x-python",
   "name": "python",
   "nbconvert_exporter": "python",
   "pygments_lexer": "ipython3",
   "version": "3.11.4"
  }
 },
 "nbformat": 4,
 "nbformat_minor": 5
}
