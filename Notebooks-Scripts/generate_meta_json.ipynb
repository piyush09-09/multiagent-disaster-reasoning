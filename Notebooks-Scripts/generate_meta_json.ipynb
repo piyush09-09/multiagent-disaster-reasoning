{
 "cells": [
  {
   "cell_type": "code",
   "execution_count": 2,
   "id": "62a11f97-f4d9-474c-967a-f6d21b33d0d1",
   "metadata": {},
   "outputs": [],
   "source": [
    "import os \n",
    "import json\n",
    "import pandas as pd\n",
    "from tqdm import tqdm\n",
    "from geopy.geocoders import Nominatim\n",
    "from time import sleep"
   ]
  },
  {
   "cell_type": "code",
   "execution_count": 12,
   "id": "c1d1b1a0-75fa-4f6b-8a64-bdfb2b8842e9",
   "metadata": {},
   "outputs": [],
   "source": [
    "fusion_path = \"d:/multiagent-disaster-reasoning/data/cleaned_fusion_with_text.csv\"\n",
    "json_dir = \"d:/multiagent-disaster-reasoning/data/CrisisMMD_v2.0/json\"\n",
    "output_path = \"d:/multiagent-disaster-reasoning/data/meta.json\""
   ]
  },
  {
   "cell_type": "code",
   "execution_count": null,
   "id": "626e7e34-ac83-4ff8-9296-fc5925313820",
   "metadata": {},
   "outputs": [
    {
     "name": "stdout",
     "output_type": "stream",
     "text": [
      "✅ Loaded fusion_df: (8534, 25)\n"
     ]
    },
    {
     "name": "stderr",
     "output_type": "stream",
     "text": [
      "  2%|█▉                                                                             | 213/8534 [01:43<55:38,  2.49it/s]"
     ]
    }
   ],
   "source": [
    "fusion_df = pd.read_csv(fusion_path)\n",
    "print(f\"✅ Loaded fusion_df: {fusion_df.shape}\")\n",
    "\n",
    "# Setup geolocator\n",
    "geolocator = Nominatim(user_agent=\"geoapiExercises\", timeout=10)\n",
    "meta_data = []\n",
    "location_cache = {}\n",
    "\n",
    "# Iterate over each row in CSV\n",
    "for _, row in tqdm(fusion_df.iterrows(), total=len(fusion_df)):\n",
    "    tweet_id = str(row['tweet_id'])\n",
    "    disaster_type = row['disaster_type']\n",
    "    image_name = row['image_name']\n",
    "\n",
    "    # JSON file path\n",
    "    json_path = os.path.join(json_dir, f\"{disaster_type}_final_data.json\")\n",
    "    if not os.path.exists(json_path):\n",
    "        continue\n",
    "\n",
    "    try:\n",
    "        # Load JSON as line-by-line objects\n",
    "        with open(json_path, \"r\", encoding=\"utf-8\") as f:\n",
    "            tweets = [json.loads(line) for line in f if line.strip()]\n",
    "\n",
    "        # Match tweet\n",
    "        tweet_data = next((t for t in tweets if str(t['id']) == tweet_id), None)\n",
    "        if not tweet_data:\n",
    "            continue\n",
    "\n",
    "        created_at = tweet_data.get(\"created_at\", None)\n",
    "        location = tweet_data.get(\"location\", None)\n",
    "\n",
    "        lat, lon = None, None\n",
    "        if location:\n",
    "            if location in location_cache:\n",
    "                lat, lon = location_cache[location]\n",
    "            else:\n",
    "                try:\n",
    "                    geo = geolocator.geocode(location)\n",
    "                    if geo:\n",
    "                        lat, lon = geo.latitude, geo.longitude\n",
    "                        location_cache[location] = (lat, lon)\n",
    "                except:\n",
    "                    pass\n",
    "                sleep(1)  # Respect geocoding API rate limit\n",
    "\n",
    "        meta_data.append({\n",
    "            \"tweet_id\": tweet_id,\n",
    "            \"image_name\": image_name,\n",
    "            \"disaster_type\": disaster_type,\n",
    "            \"timestamp\": created_at,\n",
    "            \"latitude\": lat,\n",
    "            \"longitude\": lon\n",
    "        })\n",
    "\n",
    "    except Exception as e:\n",
    "        print(f\"💥 Failed for tweet_id={tweet_id}, disaster_type={disaster_type}: {e}\")\n",
    "\n",
    "# Save meta.json\n",
    "os.makedirs(os.path.dirname(output_path), exist_ok=True)\n",
    "with open(output_path, \"w\", encoding=\"utf-8\") as f:\n",
    "    json.dump(meta_data, f, indent=4)\n",
    "\n",
    "print(f\"✅ meta.json saved with {len(meta_data)} records → {output_path}\")"
   ]
  },
  {
   "cell_type": "code",
   "execution_count": null,
   "id": "854dc30d-a709-4477-9161-e1e068cf6e5f",
   "metadata": {},
   "outputs": [],
   "source": []
  }
 ],
 "metadata": {
  "kernelspec": {
   "display_name": "Python 3 (ipykernel)",
   "language": "python",
   "name": "python3"
  },
  "language_info": {
   "codemirror_mode": {
    "name": "ipython",
    "version": 3
   },
   "file_extension": ".py",
   "mimetype": "text/x-python",
   "name": "python",
   "nbconvert_exporter": "python",
   "pygments_lexer": "ipython3",
   "version": "3.11.4"
  }
 },
 "nbformat": 4,
 "nbformat_minor": 5
}
